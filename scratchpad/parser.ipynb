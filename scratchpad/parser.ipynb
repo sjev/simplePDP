{
 "cells": [
  {
   "cell_type": "markdown",
   "metadata": {},
   "source": [
    "# Parser scratchpad\n",
    "\n",
    "This notebook is used to prototype and tweak requirements parser"
   ]
  },
  {
   "cell_type": "code",
   "execution_count": 9,
   "metadata": {
    "collapsed": false,
    "scrolled": false
   },
   "outputs": [],
   "source": [
    "# basic data parsing, load everything from the root\n",
    "import yaml\n",
    "from pprint import pprint\n",
    "import loader\n",
    "\n",
    "\n",
    "\n",
    "#pprint(data['requirements'])"
   ]
  },
  {
   "cell_type": "code",
   "execution_count": 2,
   "metadata": {
    "collapsed": true
   },
   "outputs": [],
   "source": [
    "# requirement class\n",
    "\n",
    "class Requirement():\n",
    "    \n",
    "    def __init__(self,tag,parent,properties):\n",
    "        \"\"\" \n",
    "        tag: identifier, parent: parent requirement tag, properties: dict of parameters \n",
    "        \"\"\"\n",
    "        \n",
    "        \n",
    "        self.tag = tag # unique identifier\n",
    "        self.parent = parent # parent requirement\n",
    "        \n",
    "        if 'requirements' in properties.keys():\n",
    "            self.children = list(properties['requirements'].keys())\n",
    "        else:\n",
    "            self.children = None\n",
    "            \n",
    "    \n",
    "    def __repr__(self):\n",
    "        return '%s parent:%s children:%s' % (self.tag,self.parent, str(self.children))\n",
    "        "
   ]
  },
  {
   "cell_type": "code",
   "execution_count": 28,
   "metadata": {
    "collapsed": false
   },
   "outputs": [
    {
     "name": "stdout",
     "output_type": "stream",
     "text": [
      "A01 level  0\n",
      "A02 level  0\n",
      "deeper... into  A02\n",
      "R006 level  1\n",
      "...and back up\n",
      "A03 level  0\n",
      "deeper... into  A03\n",
      "R008 level  1\n",
      "deeper... into  R008\n",
      "R008a level  2\n",
      "R008b level  2\n",
      "R008c level  2\n",
      "R008d level  2\n",
      "...and back up\n",
      "R009 level  1\n",
      "deeper... into  R009\n",
      "R009a level  2\n",
      "R009b level  2\n",
      "...and back up\n",
      "...and back up\n",
      "A04 level  0\n",
      "A05 level  0\n",
      "deeper... into  A05\n",
      "R004 level  1\n",
      "...and back up\n",
      "A06 level  0\n",
      "A07 level  0\n",
      "deeper... into  A07\n",
      "R003 level  1\n",
      "...and back up\n",
      "A08 level  0\n",
      "deeper... into  A08\n",
      "R004a level  1\n",
      "...and back up\n",
      "A09 level  0\n",
      "deeper... into  A09\n",
      "R007 level  1\n",
      "...and back up\n",
      "A10 level  0\n",
      "deeper... into  A10\n",
      "R008 level  1\n",
      "...and back up\n"
     ]
    }
   ],
   "source": [
    "# walk the tree\n",
    "\n",
    "fName = '../requirements/simpleSE.yml'\n",
    "data = yaml.load(open(fName,'r'),loader.Loader)\n",
    "\n",
    "\n",
    "def walk_gen(d, level=0, parent=None, fcn=None):\n",
    "    \"\"\"\n",
    "    tree walker.\n",
    "    \n",
    "    Parameters\n",
    "    -----------\n",
    "    d : dict\n",
    "        dictionary to iterate though\n",
    "    level : int\n",
    "        iteration level\n",
    "    parent : tag (default None)\n",
    "        used for labeling parent and passing data through iterations\n",
    "    fcn : function\n",
    "        optional function to pass dict through before returning data. \n",
    "        could be done with a decorator.\n",
    "    \n",
    "    \"\"\"\n",
    "   \n",
    "    for k in sorted(d.keys()):\n",
    "        v = d[k]\n",
    "    \n",
    "        #yield {'id':k, 'parent': parent}\n",
    "        result = dict(tag=k,parent=parent,values=v)\n",
    "        \n",
    "        print(k, 'level ', level)\n",
    "        \n",
    "        if fcn is None:\n",
    "            yield result\n",
    "        else:\n",
    "           \n",
    "            yield fcn(result)\n",
    "        \n",
    "        if 'requirements' in v.keys():\n",
    "            print('deeper... into ', k)\n",
    "            for r in walk_gen(v['requirements'],level=level+1, parent=k) :\n",
    "                yield r\n",
    "            print('...and back up')\n",
    "            \n",
    "\n",
    "#for r in walk_gen(testDict):\n",
    "#    print(r)\n",
    "\n",
    "def testFcn(args):\n",
    "    #print(args['tag'])\n",
    "    pass\n",
    "    \n",
    "for r in walk_gen(data['requirements'], fcn=testFcn):\n",
    "    \n",
    "    pass"
   ]
  },
  {
   "cell_type": "raw",
   "metadata": {},
   "source": [
    "yaml.dump(data,open('dump.yml','w'))"
   ]
  },
  {
   "cell_type": "code",
   "execution_count": null,
   "metadata": {
    "collapsed": false
   },
   "outputs": [],
   "source": [
    "#  attempt to walk the tree\n",
    "# recursive stuff here, makes my head spin 8-)\n",
    "\n",
    "# todo: maybe rewrite this into generator. but this also works...\n",
    "reqs = {}\n",
    "parent = 'ROOT'\n",
    "\n",
    "testDict = {'0':{'requirements':{'01':{'requirements':{'001':{},'002':{}}},'02':{}}}}\n",
    "\n",
    "\n",
    "def walk(d):\n",
    " \n",
    "    for k,v in d.items():\n",
    "        print(k)\n",
    "        #reqs[k] = {'req':v['req'], 'parent': parent}\n",
    "        if 'requirements' in v.keys():\n",
    "            \n",
    "            print('Children:', list(v['requirements'].keys()))\n",
    "            #parent = k\n",
    "            walk(v['requirements']) \n",
    "\n",
    "walk(testDict)  \n",
    "print('-------------------------')\n",
    "walk(data['requirements'])\n",
    "\n",
    "      \n"
   ]
  },
  {
   "cell_type": "raw",
   "metadata": {},
   "source": [
    "%qtconsole"
   ]
  },
  {
   "cell_type": "code",
   "execution_count": null,
   "metadata": {
    "collapsed": false
   },
   "outputs": [],
   "source": [
    "# check how to dump structures\n",
    "\n",
    "req = [ dict(object='requirement',txt='text %i' % i) for i in range(3)]\n",
    "\n",
    "print(yaml.dump(req))"
   ]
  },
  {
   "cell_type": "code",
   "execution_count": null,
   "metadata": {
    "collapsed": false
   },
   "outputs": [],
   "source": [
    "d = dict(a=1,b=2,c=3)\n",
    "sorted(d.keys())"
   ]
  }
 ],
 "metadata": {
  "anaconda-cloud": {},
  "kernelspec": {
   "display_name": "Python [conda root]",
   "language": "python",
   "name": "conda-root-py"
  },
  "language_info": {
   "codemirror_mode": {
    "name": "ipython",
    "version": 3
   },
   "file_extension": ".py",
   "mimetype": "text/x-python",
   "name": "python",
   "nbconvert_exporter": "python",
   "pygments_lexer": "ipython3",
   "version": "3.5.2"
  }
 },
 "nbformat": 4,
 "nbformat_minor": 1
}
