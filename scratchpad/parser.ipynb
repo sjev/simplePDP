{
 "cells": [
  {
   "cell_type": "markdown",
   "metadata": {},
   "source": [
    "# Parser scratchpad\n",
    "\n",
    "This notebook is used to prototype and tweak requirements parser"
   ]
  },
  {
   "cell_type": "code",
   "execution_count": 85,
   "metadata": {
    "collapsed": false
   },
   "outputs": [
    {
     "name": "stdout",
     "output_type": "stream",
     "text": [
      "{'ROOT': 'A user (architect or designer) **needs** to manage requirements of a complex system.\\nA good requirement management system has a set of high-level requirements\\n', 'solutions': {'S003': 'by using plain text files and *git* version control, keeping track of changes is provided out of the box.\\ngit tags can be used for baselining the system.\\n', 'S001': \"each requirment has a default status, being 'draft'. A new status can be defined with\\nkeyword 'status'\\n\", 'S002': 'by using yaml data format, the user is encouraged to store data in a structured way', 'S004': 'each requirement is assigned'}, 'requirements': {'R4': {'req': 'tool **must** support multiple users'}, 'R1': {'decomposition': {'rationale': \"typical workflow consists of setting status to 'draft/reviewed/confirmed' or similar.\\nrequirements have a certain type, for example 'functional' or 'unit'\\n\", 'requirements': {'R1.2': {'solution': 'S004', 'req': 'each requirement **must** have a unique identifier'}, 'R1.1': {'req': 'each requirement **must** have a status'}}}, 'req': 'tool **must** support requirement workflow'}, 'R3': {'solution': 'S003', 'req': 'tool **must** have version control'}, 'R2': {'decomposition': {'rationale': 'every requirement **must** be traceable up to the origin and down to the solution', 'requirements': '-req'}, 'req': 'tool **must** have requirement traceability'}, 'R5': {'decomposition': {'text': 'The easiest way of writing is just plain text. It provides the freedom of writing in users favorite editor,\\nand enables to focus on the process and the contents, rather than the tooling.\\nThere are different options for text-based light-weight markup that already exist.\\nOne of the most popular ones are\\n\\n* markdown (and its flavors)\\n* reStructuredText\\n\\nfor an overview of their synthax, see [here](http://hyperpolyglot.org/lightweight-markup)\\n\\nBecause we need to cross-reference and tag requirements, the system also needs some kind of directive.\\nBeing able to add commnents is a welcome feature.\\n\\nThe system must support requirements growing into thousands, therefore splitting the system\\ninto multiple files is essential.\\n', 'requirements': [{'text': 'The system **must** use plain text input', 'type': 'functional'}, {'text': 'The system **must** enable cross referencing and structuring the requirements', 'type': 'functional'}, {'text': 'The system **should** support comments', 'type': 'functional'}]}, 'req': 'tool **must** be user-friendly and support \"traditional\" way of writing requrements.'}}}\n"
     ]
    }
   ],
   "source": [
    "# basic data parsing, load everything from the root\n",
    "import yaml\n",
    "from pprint import pprint\n",
    "import loader\n",
    "\n",
    "\n",
    "fName = '../requirements/simpleSE.yml'\n",
    "data = yaml.load(open(fName,'r'),loader.Loader)\n",
    "\n",
    "\n",
    "print(data)"
   ]
  },
  {
   "cell_type": "code",
   "execution_count": 87,
   "metadata": {
    "collapsed": false
   },
   "outputs": [
    {
     "data": {
      "text/plain": [
       "5"
      ]
     },
     "execution_count": 87,
     "metadata": {},
     "output_type": "execute_result"
    }
   ],
   "source": [
    "#  attempt to walk the tree\n",
    "\n",
    "\n",
    "len(data['requirements'])"
   ]
  },
  {
   "cell_type": "code",
   "execution_count": 14,
   "metadata": {
    "collapsed": false
   },
   "outputs": [
    {
     "name": "stdout",
     "output_type": "stream",
     "text": [
      "- {object: requirement, txt: text 0}\n",
      "- {object: requirement, txt: text 1}\n",
      "- {object: requirement, txt: text 2}\n",
      "\n"
     ]
    }
   ],
   "source": [
    "# check how to dump structures\n",
    "\n",
    "req = [ dict(object='requirement',txt='text %i' % i) for i in range(3)]\n",
    "\n",
    "print(yaml.dump(req))"
   ]
  }
 ],
 "metadata": {
  "anaconda-cloud": {},
  "kernelspec": {
   "display_name": "Python [conda root]",
   "language": "python",
   "name": "conda-root-py"
  },
  "language_info": {
   "codemirror_mode": {
    "name": "ipython",
    "version": 3
   },
   "file_extension": ".py",
   "mimetype": "text/x-python",
   "name": "python",
   "nbconvert_exporter": "python",
   "pygments_lexer": "ipython3",
   "version": "3.5.2"
  }
 },
 "nbformat": 4,
 "nbformat_minor": 1
}
