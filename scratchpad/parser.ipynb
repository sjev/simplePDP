{
 "cells": [
  {
   "cell_type": "markdown",
   "metadata": {},
   "source": [
    "# Parser scratchpad\n",
    "\n",
    "This notebook is used to prototype and tweak requirements parser"
   ]
  },
  {
   "cell_type": "code",
   "execution_count": 1,
   "metadata": {
    "collapsed": false
   },
   "outputs": [
    {
     "data": {
      "text/plain": [
       "[{'decomposition': 'A user (architect or designer) **needs** to manage requirements of a complex system.\\nA good requirement management system has a set of high-level requirements\\n',\n",
       "  'req': 'Requirements **must** be documented in a consistent, structural way.',\n",
       "  'requirements': [{'decomposition': \"typical workflow consists of setting status to 'draft/reviewed/confirmed' or similar.\\nrequirements have a certain type, for example 'functional' or 'unit'\\n\",\n",
       "    'req': 'tool **must** support requirement workflow',\n",
       "    'requirements': [{'req': 'each requirement **must** have a status'},\n",
       "     {'req': 'each requirement **must** have a unique identifier',\n",
       "      'solution': 'S004'}]},\n",
       "   {'decomposition': 'every requirement **must** be traceable up to the origin and down to the solution',\n",
       "    'req': 'tool **must** have requirement traceability',\n",
       "    'requirements': [{'id': 'dummy', 'req': 'dummy requirement'}]},\n",
       "   {'req': 'tool **must** have version control', 'solution': 'S003'},\n",
       "   {'req': 'tool **must** support multiple users', 'solution': 'S003'},\n",
       "   {'decomposition': 'The easiest way of writing is just plain text. It provides the freedom of writing in users favorite editor,\\nand enables to focus on the process and the contents, rather than the tooling.\\nThere are different options for text-based light-weight markup that already exist.\\nOne of the most popular ones are\\n\\n* markdown (and its flavors)\\n* reStructuredText\\n\\nfor an overview of their synthax, see [here](http://hyperpolyglot.org/lightweight-markup)\\n\\nBecause we need to cross-reference and tag requirements, the system also needs some kind of directive.\\nBeing able to add commnents is a welcome feature.\\n\\nThe system must support requirements growing into thousands, therefore splitting the system\\ninto multiple files is essential.\\n',\n",
       "    'req': 'tool **must** be user-friendly and support \"traditional\" way of writing requrements.',\n",
       "    'requirements': [{'req': 'The system **must** use plain text input'},\n",
       "     {'req': 'The system **must** enable cross referencing and structuring the requirements'},\n",
       "     {'req': 'The system **should** support comments'}]},\n",
       "   {'req': 'tool **must** generate requirement documents',\n",
       "    'requirements': [{'req': 'tool **must** produce html output'},\n",
       "     {'req': 'tool **should** produce pdf'}]}]}]"
      ]
     },
     "execution_count": 1,
     "metadata": {},
     "output_type": "execute_result"
    }
   ],
   "source": [
    "# basic data parsing, load everything from the root\n",
    "import yaml\n",
    "from pprint import pprint\n",
    "import loader\n",
    "\n",
    "\n",
    "fName = '../requirements/simpleSE.yml'\n",
    "data = yaml.load(open(fName,'r'),loader.Loader)\n",
    "data['requirements']"
   ]
  },
  {
   "cell_type": "code",
   "execution_count": 2,
   "metadata": {
    "collapsed": false
   },
   "outputs": [
    {
     "name": "stdout",
     "output_type": "stream",
     "text": [
      "Requirements **must** be documented in a consistent, structural way.\n",
      "tool **must** support requirement workflow\n",
      "each requirement **must** have a status\n",
      "each requirement **must** have a unique identifier\n",
      "tool **must** have requirement traceability\n",
      "dummy requirement\n",
      "tool **must** have version control\n",
      "tool **must** support multiple users\n",
      "tool **must** be user-friendly and support \"traditional\" way of writing requrements.\n",
      "The system **must** use plain text input\n",
      "The system **must** enable cross referencing and structuring the requirements\n",
      "The system **should** support comments\n",
      "tool **must** generate requirement documents\n",
      "tool **must** produce html output\n",
      "tool **should** produce pdf\n"
     ]
    }
   ],
   "source": [
    "#  attempt to walk the tree\n",
    "# recursive stuff here, makes my head spin 8-)\n",
    "\n",
    "# todo: add autonumbering \n",
    "\n",
    "def myprint(d):\n",
    " \n",
    "    for v in d:\n",
    "        print(v['req'])\n",
    "        if 'requirements' in v.keys():\n",
    "            myprint(v['requirements'])  \n",
    "\n",
    "\n",
    "myprint(data['requirements'])\n",
    "        \n"
   ]
  },
  {
   "cell_type": "raw",
   "metadata": {},
   "source": [
    "%qtconsole"
   ]
  },
  {
   "cell_type": "code",
   "execution_count": 3,
   "metadata": {
    "collapsed": false
   },
   "outputs": [
    {
     "name": "stdout",
     "output_type": "stream",
     "text": [
      "- {object: requirement, txt: text 0}\n",
      "- {object: requirement, txt: text 1}\n",
      "- {object: requirement, txt: text 2}\n",
      "\n"
     ]
    }
   ],
   "source": [
    "# check how to dump structures\n",
    "\n",
    "req = [ dict(object='requirement',txt='text %i' % i) for i in range(3)]\n",
    "\n",
    "print(yaml.dump(req))"
   ]
  },
  {
   "cell_type": "code",
   "execution_count": 4,
   "metadata": {
    "collapsed": false
   },
   "outputs": [
    {
     "data": {
      "text/plain": [
       "['a', 'b', 'c']"
      ]
     },
     "execution_count": 4,
     "metadata": {},
     "output_type": "execute_result"
    }
   ],
   "source": [
    "d = dict(a=1,b=2,c=3)\n",
    "sorted(d.keys())"
   ]
  }
 ],
 "metadata": {
  "anaconda-cloud": {},
  "kernelspec": {
   "display_name": "Python [conda root]",
   "language": "python",
   "name": "conda-root-py"
  },
  "language_info": {
   "codemirror_mode": {
    "name": "ipython",
    "version": 3
   },
   "file_extension": ".py",
   "mimetype": "text/x-python",
   "name": "python",
   "nbconvert_exporter": "python",
   "pygments_lexer": "ipython3",
   "version": "3.5.2"
  }
 },
 "nbformat": 4,
 "nbformat_minor": 1
}
