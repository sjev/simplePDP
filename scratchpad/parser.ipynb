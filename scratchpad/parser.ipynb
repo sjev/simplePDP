{
 "cells": [
  {
   "cell_type": "markdown",
   "metadata": {},
   "source": [
    "# Parser scratchpad\n",
    "\n",
    "This notebook is used to prototype and tweak requirements parser"
   ]
  },
  {
   "cell_type": "code",
   "execution_count": 43,
   "metadata": {
    "collapsed": false
   },
   "outputs": [
    {
     "name": "stdout",
     "output_type": "stream",
     "text": [
      "[{'decomposition': {'requirements': [{'text': 'The system **must** use plain '\n",
      "                                              'text input',\n",
      "                                      'type': 'functional'},\n",
      "                                     {'text': 'The system **must** enable '\n",
      "                                              'cross referencing and '\n",
      "                                              'structuring the requirements',\n",
      "                                      'type': 'functional'},\n",
      "                                     {'text': 'The system **should** support '\n",
      "                                              'comments',\n",
      "                                      'type': 'functional'}],\n",
      "                    'text': 'The easiest way of writing is just plain text. It '\n",
      "                            'provides the freedom of writing in users favorite '\n",
      "                            'editor,\\n'\n",
      "                            'and enables to focus on the process and the '\n",
      "                            'contents, rather than the tooling.\\n'\n",
      "                            'There are different options for text-based '\n",
      "                            'light-weight markup that already exist.\\n'\n",
      "                            'One of the most popular ones are\\n'\n",
      "                            '\\n'\n",
      "                            '* markdown (and its flavors)\\n'\n",
      "                            '* reStructuredText\\n'\n",
      "                            '\\n'\n",
      "                            'for an overview of their synthax, see '\n",
      "                            '[here](http://hyperpolyglot.org/lightweight-markup)\\n'\n",
      "                            '\\n'\n",
      "                            'Because we need to cross-reference and tag '\n",
      "                            'requirements, the system also needs some kind of '\n",
      "                            'directive.\\n'\n",
      "                            'Being able to add commnents is a welcome '\n",
      "                            'feature.\\n'\n",
      "                            '\\n'\n",
      "                            'The system must support requirements growing into '\n",
      "                            'thousands, therefore splitting the system\\n'\n",
      "                            'into multiple files is essential.\\n'},\n",
      "  'text': 'The system **must** have a user-friendly way of writing '\n",
      "          'requrements.'},\n",
      " {'validation': {'id': 'val01',\n",
      "                 'text': '[pandoc-flavored '\n",
      "                         'markdown](http://pandoc.org/MANUAL.html#pandocs-markdown) '\n",
      "                         'is a commonly used markup system.\\n'}}]\n"
     ]
    }
   ],
   "source": [
    "import yaml\n",
    "from pprint import pprint\n",
    "import loader\n",
    "\n",
    "\n",
    "fName = '../requirements/simpleSE.yml'\n",
    "data = yaml.load_all(open(fName,'r'),loader.Loader)\n",
    "\n",
    "\n",
    "pprint(list(data))"
   ]
  },
  {
   "cell_type": "code",
   "execution_count": 14,
   "metadata": {
    "collapsed": false
   },
   "outputs": [
    {
     "name": "stdout",
     "output_type": "stream",
     "text": [
      "- {object: requirement, txt: text 0}\n",
      "- {object: requirement, txt: text 1}\n",
      "- {object: requirement, txt: text 2}\n",
      "\n"
     ]
    }
   ],
   "source": [
    "# check how to dump structures\n",
    "\n",
    "req = [ dict(object='requirement',txt='text %i' % i) for i in range(3)]\n",
    "\n",
    "print(yaml.dump(req))"
   ]
  }
 ],
 "metadata": {
  "anaconda-cloud": {},
  "kernelspec": {
   "display_name": "Python [conda root]",
   "language": "python",
   "name": "conda-root-py"
  },
  "language_info": {
   "codemirror_mode": {
    "name": "ipython",
    "version": 3
   },
   "file_extension": ".py",
   "mimetype": "text/x-python",
   "name": "python",
   "nbconvert_exporter": "python",
   "pygments_lexer": "ipython3",
   "version": "3.5.2"
  }
 },
 "nbformat": 4,
 "nbformat_minor": 1
}
