{
 "cells": [
  {
   "cell_type": "markdown",
   "metadata": {},
   "source": [
    "# Parser scratchpad\n",
    "\n",
    "This notebook is used to prototype and tweak requirements parser"
   ]
  },
  {
   "cell_type": "code",
   "execution_count": 122,
   "metadata": {
    "collapsed": false,
    "scrolled": false
   },
   "outputs": [],
   "source": [
    "# basic data parsing, load everything from the root\n",
    "import yaml\n",
    "from pprint import pprint\n",
    "import loader\n",
    "\n",
    "\n",
    "fName = '../requirements/simpleSE.yml'\n",
    "data = yaml.load(open(fName,'r'),loader.Loader)\n",
    "\n",
    "#pprint(data['requirements'])"
   ]
  },
  {
   "cell_type": "code",
   "execution_count": 135,
   "metadata": {
    "collapsed": true
   },
   "outputs": [],
   "source": [
    "# requirement class\n",
    "\n",
    "class Requirement():\n",
    "    \n",
    "    def __init__(self,tag,parent,properties):\n",
    "        \"\"\" \n",
    "        tag: identifier, parent: parent requirement tag, properties: dict of parameters \n",
    "        \"\"\"\n",
    "        \n",
    "        \n",
    "        self.tag = tag # unique identifier\n",
    "        self.parent = parent # parent requirement\n",
    "        \n",
    "        if 'requirements' in properties.keys():\n",
    "            self.children = list(properties['requirements'].keys())\n",
    "        else:\n",
    "            self.children = None\n",
    "            \n",
    "    \n",
    "    def __repr__(self):\n",
    "        return '%s parent:%s children:%s' % (self.tag,self.parent, str(self.children))\n",
    "        "
   ]
  },
  {
   "cell_type": "code",
   "execution_count": 136,
   "metadata": {
    "collapsed": false
   },
   "outputs": [
    {
     "name": "stdout",
     "output_type": "stream",
     "text": [
      "R001 parent:ROOT children:['R008', 'R007', 'R002', 'R006', 'R010', 'R009']\n",
      "deeper... into  R001\n",
      "R002 parent:R001 children:None\n",
      "R006 parent:R001 children:None\n",
      "R007 parent:R001 children:None\n",
      "R008 parent:R001 children:['R008c', 'R008a', 'R008b', 'R008d']\n",
      "deeper... into  R008\n",
      "R008a parent:R008 children:None\n",
      "R008b parent:R008 children:None\n",
      "R008c parent:R008 children:None\n",
      "R008d parent:R008 children:None\n",
      "and back up\n",
      "R009 parent:R001 children:['R009a', 'R009b']\n",
      "deeper... into  R009\n",
      "R009a parent:R009 children:None\n",
      "R009b parent:R009 children:None\n",
      "and back up\n",
      "R010 parent:R001 children:None\n",
      "and back up\n"
     ]
    }
   ],
   "source": [
    "# try to write a generator\n",
    "\n",
    "def walk_gen(d, parent='ROOT'):\n",
    "    \n",
    "    for k in sorted(d.keys()):\n",
    "        v = d[k]\n",
    "    \n",
    "        #yield {'id':k, 'parent': parent}\n",
    "        yield Requirement(k,parent,v)\n",
    "        \n",
    "        if 'requirements' in v.keys():\n",
    "            print('deeper... into ', k)\n",
    "            \n",
    "            for r in walk_gen(v['requirements'],parent=k) :\n",
    "                yield r\n",
    "            print('and back up')\n",
    "\n",
    "#for r in walk_gen(testDict):\n",
    "#    print(r)\n",
    " \n",
    "for r in walk_gen(data['requirements']):\n",
    "    print(r)"
   ]
  },
  {
   "cell_type": "raw",
   "metadata": {},
   "source": [
    "yaml.dump(data,open('dump.yml','w'))"
   ]
  },
  {
   "cell_type": "code",
   "execution_count": 120,
   "metadata": {
    "collapsed": false
   },
   "outputs": [
    {
     "name": "stdout",
     "output_type": "stream",
     "text": [
      "0\n",
      "Children: ['02', '01']\n",
      "02\n",
      "01\n",
      "Children: ['002', '001']\n",
      "002\n",
      "001\n",
      "-------------------------\n",
      "R001\n",
      "Children: ['R008', 'R007', 'R002', 'R006', 'R010', 'R009']\n",
      "R008\n",
      "Children: ['R008c', 'R008a', 'R008b', 'R008d']\n",
      "R008c\n",
      "R008a\n",
      "R008b\n",
      "R008d\n",
      "R007\n",
      "R002\n",
      "R006\n",
      "R010\n",
      "R009\n",
      "Children: ['R009a', 'R009b']\n",
      "R009a\n",
      "R009b\n"
     ]
    }
   ],
   "source": [
    "#  attempt to walk the tree\n",
    "# recursive stuff here, makes my head spin 8-)\n",
    "\n",
    "# todo: maybe rewrite this into generator. but this also works...\n",
    "reqs = {}\n",
    "parent = 'ROOT'\n",
    "\n",
    "testDict = {'0':{'requirements':{'01':{'requirements':{'001':{},'002':{}}},'02':{}}}}\n",
    "\n",
    "\n",
    "def walk(d):\n",
    " \n",
    "    for k,v in d.items():\n",
    "        print(k)\n",
    "        #reqs[k] = {'req':v['req'], 'parent': parent}\n",
    "        if 'requirements' in v.keys():\n",
    "            \n",
    "            print('Children:', list(v['requirements'].keys()))\n",
    "            #parent = k\n",
    "            walk(v['requirements']) \n",
    "\n",
    "walk(testDict)  \n",
    "print('-------------------------')\n",
    "walk(data['requirements'])\n",
    "\n",
    "      \n"
   ]
  },
  {
   "cell_type": "raw",
   "metadata": {},
   "source": [
    "%qtconsole"
   ]
  },
  {
   "cell_type": "code",
   "execution_count": 3,
   "metadata": {
    "collapsed": false
   },
   "outputs": [
    {
     "name": "stdout",
     "output_type": "stream",
     "text": [
      "- {object: requirement, txt: text 0}\n",
      "- {object: requirement, txt: text 1}\n",
      "- {object: requirement, txt: text 2}\n",
      "\n"
     ]
    }
   ],
   "source": [
    "# check how to dump structures\n",
    "\n",
    "req = [ dict(object='requirement',txt='text %i' % i) for i in range(3)]\n",
    "\n",
    "print(yaml.dump(req))"
   ]
  },
  {
   "cell_type": "code",
   "execution_count": 4,
   "metadata": {
    "collapsed": false
   },
   "outputs": [
    {
     "data": {
      "text/plain": [
       "['a', 'b', 'c']"
      ]
     },
     "execution_count": 4,
     "metadata": {},
     "output_type": "execute_result"
    }
   ],
   "source": [
    "d = dict(a=1,b=2,c=3)\n",
    "sorted(d.keys())"
   ]
  }
 ],
 "metadata": {
  "anaconda-cloud": {},
  "kernelspec": {
   "display_name": "Python [conda root]",
   "language": "python",
   "name": "conda-root-py"
  },
  "language_info": {
   "codemirror_mode": {
    "name": "ipython",
    "version": 3
   },
   "file_extension": ".py",
   "mimetype": "text/x-python",
   "name": "python",
   "nbconvert_exporter": "python",
   "pygments_lexer": "ipython3",
   "version": "3.5.2"
  }
 },
 "nbformat": 4,
 "nbformat_minor": 1
}
