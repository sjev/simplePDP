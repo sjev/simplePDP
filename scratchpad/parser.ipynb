{
 "cells": [
  {
   "cell_type": "markdown",
   "metadata": {},
   "source": [
    "# Parser scratchpad\n",
    "\n",
    "This notebook is used to prototype and tweak requirements parser"
   ]
  },
  {
   "cell_type": "code",
   "execution_count": 45,
   "metadata": {
    "collapsed": false
   },
   "outputs": [
    {
     "name": "stdout",
     "output_type": "stream",
     "text": [
      "[{'requirements': [{'decomposition': {'requirements': [{'text': 'The system '\n",
      "                                                                '**must** use '\n",
      "                                                                'plain text '\n",
      "                                                                'input',\n",
      "                                                        'type': 'functional'},\n",
      "                                                       {'text': 'The system '\n",
      "                                                                '**must** '\n",
      "                                                                'enable cross '\n",
      "                                                                'referencing '\n",
      "                                                                'and '\n",
      "                                                                'structuring '\n",
      "                                                                'the '\n",
      "                                                                'requirements',\n",
      "                                                        'type': 'functional'},\n",
      "                                                       {'text': 'The system '\n",
      "                                                                '**should** '\n",
      "                                                                'support '\n",
      "                                                                'comments',\n",
      "                                                        'type': 'functional'}],\n",
      "                                      'text': 'The easiest way of writing is '\n",
      "                                              'just plain text. It provides '\n",
      "                                              'the freedom of writing in users '\n",
      "                                              'favorite editor,\\n'\n",
      "                                              'and enables to focus on the '\n",
      "                                              'process and the contents, '\n",
      "                                              'rather than the tooling.\\n'\n",
      "                                              'There are different options for '\n",
      "                                              'text-based light-weight markup '\n",
      "                                              'that already exist.\\n'\n",
      "                                              'One of the most popular ones '\n",
      "                                              'are\\n'\n",
      "                                              '\\n'\n",
      "                                              '* markdown (and its flavors)\\n'\n",
      "                                              '* reStructuredText\\n'\n",
      "                                              '\\n'\n",
      "                                              'for an overview of their '\n",
      "                                              'synthax, see '\n",
      "                                              '[here](http://hyperpolyglot.org/lightweight-markup)\\n'\n",
      "                                              '\\n'\n",
      "                                              'Because we need to '\n",
      "                                              'cross-reference and tag '\n",
      "                                              'requirements, the system also '\n",
      "                                              'needs some kind of directive.\\n'\n",
      "                                              'Being able to add commnents is '\n",
      "                                              'a welcome feature.\\n'\n",
      "                                              '\\n'\n",
      "                                              'The system must support '\n",
      "                                              'requirements growing into '\n",
      "                                              'thousands, therefore splitting '\n",
      "                                              'the system\\n'\n",
      "                                              'into multiple files is '\n",
      "                                              'essential.\\n'},\n",
      "                    'text': 'The system **must** have a user-friendly way of '\n",
      "                            'writing requrements.'}],\n",
      "  'text': 'A user (architect or designer) needs to manage requirements of a '\n",
      "          'complex system.\\n'\n",
      "          'A good requirement management system requires\\n'},\n",
      " {'validation': {'id': 'val01',\n",
      "                 'text': '[pandoc-flavored '\n",
      "                         'markdown](http://pandoc.org/MANUAL.html#pandocs-markdown) '\n",
      "                         'is a commonly used markup system.\\n'}}]\n"
     ]
    }
   ],
   "source": [
    "import yaml\n",
    "from pprint import pprint\n",
    "import loader\n",
    "\n",
    "\n",
    "fName = '../requirements/simpleSE.yml'\n",
    "data = yaml.load_all(open(fName,'r'),loader.Loader)\n",
    "\n",
    "\n",
    "pprint(list(data))"
   ]
  },
  {
   "cell_type": "code",
   "execution_count": 14,
   "metadata": {
    "collapsed": false
   },
   "outputs": [
    {
     "name": "stdout",
     "output_type": "stream",
     "text": [
      "- {object: requirement, txt: text 0}\n",
      "- {object: requirement, txt: text 1}\n",
      "- {object: requirement, txt: text 2}\n",
      "\n"
     ]
    }
   ],
   "source": [
    "# check how to dump structures\n",
    "\n",
    "req = [ dict(object='requirement',txt='text %i' % i) for i in range(3)]\n",
    "\n",
    "print(yaml.dump(req))"
   ]
  }
 ],
 "metadata": {
  "anaconda-cloud": {},
  "kernelspec": {
   "display_name": "Python [conda root]",
   "language": "python",
   "name": "conda-root-py"
  },
  "language_info": {
   "codemirror_mode": {
    "name": "ipython",
    "version": 3
   },
   "file_extension": ".py",
   "mimetype": "text/x-python",
   "name": "python",
   "nbconvert_exporter": "python",
   "pygments_lexer": "ipython3",
   "version": "3.5.2"
  }
 },
 "nbformat": 4,
 "nbformat_minor": 1
}
