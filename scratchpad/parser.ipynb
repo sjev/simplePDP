{
 "cells": [
  {
   "cell_type": "markdown",
   "metadata": {},
   "source": [
    "# Parser scratchpad\n",
    "\n",
    "This notebook is used to prototype and tweak requirements parser"
   ]
  },
  {
   "cell_type": "code",
   "execution_count": 25,
   "metadata": {
    "collapsed": false
   },
   "outputs": [
    {
     "data": {
      "text/plain": [
       "{'R001': {'decomposition': 'A user (architect or designer) **needs** to manage requirements of a complex system.\\nA good requirement management system has a set of high-level requirements\\n',\n",
       "  'req': 'Requirements **must** be documented in a consistent, structural way.',\n",
       "  'requirements': {'R002': {'rationale': 'requirements are defined and changed during development process.\\nUsually a requirement goes through different stages from \\nrequirements:\\n  R003: \\n    req : each requirement **must** have a status\\n    rationale : \"typical workflow consists of setting status to \\'draft/reviewed/confirmed\\' or similar.\"\\n  R004:\\n    req : each requirement **must** have a unique identifier\\n    rationale : \"needed to link requirements\"\\n    solution: S004\\n    \\n  R004a:\\n    req : tool **must** check identifiers for consistency\\n    rationale : \"because identifiers are entered by hand, there is a chance of duplicate entries. these are not allowed\"\\n    related: R008d\\n  \\n    \\n',\n",
       "    'req': 'tool **must** support requirement workflow'},\n",
       "   'R006': {'req': 'tool **must** have version control', 'solution': 'S003'},\n",
       "   'R007': {'req': 'tool **must** support multiple users', 'solution': 'S003'},\n",
       "   'R008': {'decomposition': 'The easiest way of writing is just plain text. It provides the freedom of writing in users favorite editor,\\nand enables to focus on the process and the contents, rather than the tooling.\\nThere are different options for text-based light-weight markup that already exist.\\nOne of the most popular ones are\\n\\n* markdown (and its flavors)\\n* reStructuredText\\n\\nfor an overview of their synthax, see [here](http://hyperpolyglot.org/lightweight-markup)\\n\\nBecause we need to cross-reference and tag requirements, the system also needs some kind of directive.\\nBeing able to add commnents is a welcome feature.\\n\\nThe system must support requirements growing into thousands, therefore splitting the system\\ninto multiple files is essential.\\n',\n",
       "    'req': 'tool **must** be user-friendly and support \"traditional\" way of writing requrements.',\n",
       "    'requirements': {'R008a': {'req': 'tool **must** use plain text input'},\n",
       "     'R008b': {'req': 'tool **must** enable cross referencing and structuring the requirements'},\n",
       "     'R008c': {'req': 'tool **should** support comments'},\n",
       "     'R008d': {'req': 'tool **shoud** be able to check if an requirement identifier is available'}}},\n",
       "   'R009': {'req': 'tool **must** generate requirement documents',\n",
       "    'requirements': {'R008a': {'req': 'tool **must** produce html output'},\n",
       "     'R008b': {'req': 'tool **should** produce pdf'}}},\n",
       "   'R010': {'rationale': 'every requirement **must** be traceable up to the origin and down to the solution',\n",
       "    'req': 'tool **must** have requirement traceability'}}}}"
      ]
     },
     "execution_count": 25,
     "metadata": {},
     "output_type": "execute_result"
    }
   ],
   "source": [
    "# basic data parsing, load everything from the root\n",
    "import yaml\n",
    "from pprint import pprint\n",
    "import loader\n",
    "\n",
    "\n",
    "fName = '../requirements/simpleSE.yml'\n",
    "data = yaml.load(open(fName,'r'),loader.Loader)\n",
    "data['requirements']"
   ]
  },
  {
   "cell_type": "raw",
   "metadata": {},
   "source": [
    "yaml.dump(data,open('dump.yml','w'))"
   ]
  },
  {
   "cell_type": "code",
   "execution_count": 27,
   "metadata": {
    "collapsed": false
   },
   "outputs": [
    {
     "name": "stdout",
     "output_type": "stream",
     "text": [
      "R001 Requirements **must** be documented in a consistent, structural way.\n",
      "Derived requirements:  dict_keys(['R008', 'R007', 'R002', 'R006', 'R010', 'R009'])\n",
      "R008 tool **must** be user-friendly and support \"traditional\" way of writing requrements.\n",
      "Derived requirements:  dict_keys(['R008c', 'R008a', 'R008b', 'R008d'])\n",
      "R008c tool **should** support comments\n",
      "R008a tool **must** use plain text input\n",
      "R008b tool **must** enable cross referencing and structuring the requirements\n",
      "R008d tool **shoud** be able to check if an requirement identifier is available\n",
      "R007 tool **must** support multiple users\n",
      "R002 tool **must** support requirement workflow\n",
      "R006 tool **must** have version control\n",
      "R010 tool **must** have requirement traceability\n",
      "R009 tool **must** generate requirement documents\n",
      "Derived requirements:  dict_keys(['R008a', 'R008b'])\n",
      "R008a tool **must** produce html output\n",
      "R008b tool **should** produce pdf\n"
     ]
    }
   ],
   "source": [
    "#  attempt to walk the tree\n",
    "# recursive stuff here, makes my head spin 8-)\n",
    "\n",
    "# todo: add autonumbering \n",
    "\n",
    "def myprint(d):\n",
    " \n",
    "    for k,v in d.items():\n",
    "        \n",
    "        if k !='requirements':\n",
    "            print(k,v['req'])\n",
    "            if 'requirements' in v.keys():\n",
    "                print('Derived requirements: ', v['requirements'].keys())\n",
    "                myprint(v['requirements'])\n",
    "        else:\n",
    "            myprint(v['requirements'])  \n",
    "\n",
    "\n",
    "myprint(data['requirements'])\n",
    "        \n"
   ]
  },
  {
   "cell_type": "raw",
   "metadata": {},
   "source": [
    "%qtconsole"
   ]
  },
  {
   "cell_type": "code",
   "execution_count": 3,
   "metadata": {
    "collapsed": false
   },
   "outputs": [
    {
     "name": "stdout",
     "output_type": "stream",
     "text": [
      "- {object: requirement, txt: text 0}\n",
      "- {object: requirement, txt: text 1}\n",
      "- {object: requirement, txt: text 2}\n",
      "\n"
     ]
    }
   ],
   "source": [
    "# check how to dump structures\n",
    "\n",
    "req = [ dict(object='requirement',txt='text %i' % i) for i in range(3)]\n",
    "\n",
    "print(yaml.dump(req))"
   ]
  },
  {
   "cell_type": "code",
   "execution_count": 4,
   "metadata": {
    "collapsed": false
   },
   "outputs": [
    {
     "data": {
      "text/plain": [
       "['a', 'b', 'c']"
      ]
     },
     "execution_count": 4,
     "metadata": {},
     "output_type": "execute_result"
    }
   ],
   "source": [
    "d = dict(a=1,b=2,c=3)\n",
    "sorted(d.keys())"
   ]
  }
 ],
 "metadata": {
  "anaconda-cloud": {},
  "kernelspec": {
   "display_name": "Python [conda root]",
   "language": "python",
   "name": "conda-root-py"
  },
  "language_info": {
   "codemirror_mode": {
    "name": "ipython",
    "version": 3
   },
   "file_extension": ".py",
   "mimetype": "text/x-python",
   "name": "python",
   "nbconvert_exporter": "python",
   "pygments_lexer": "ipython3",
   "version": "3.5.2"
  }
 },
 "nbformat": 4,
 "nbformat_minor": 1
}
