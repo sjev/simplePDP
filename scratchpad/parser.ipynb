{
 "cells": [
  {
   "cell_type": "markdown",
   "metadata": {},
   "source": [
    "# Parser scratchpad\n",
    "\n",
    "This notebook is used to prototype and tweak requirements parser"
   ]
  },
  {
   "cell_type": "code",
   "execution_count": 21,
   "metadata": {
    "collapsed": false
   },
   "outputs": [
    {
     "name": "stdout",
     "output_type": "stream",
     "text": [
      "{'ROOT': 'A user (architect or designer) **needs** to manage requirements of a complex system.\\nA good requirement management system has a set of high-level requirements\\n', 'solutions': {'S002': 'by using yaml data format, the user is encouraged to store data in a structured way', 'S003': 'by using plain text files and *git* version control, keeping track of changes is provided out of the box.\\ngit tags can be used for baselining the system.\\n', 'S001': \"each requirment has a default status, being 'draft'. A new status can be defined with\\nkeyword 'status'\\n\", 'S004': 'each requirement is assigned a unique key by the user. When extracting requirements, these\\nwill be sorted by their keys\\n'}, 'requirements': {'R2': {'req': 'tool **must** have requirement traceability', 'decomposition': 'every requirement **must** be traceable up to the origin and down to the solution', 'requirements': {'R2.1': {'req': 'dummy requirement'}}}, 'R5': {'req': 'tool **must** be user-friendly and support \"traditional\" way of writing requrements.', 'decomposition': 'The easiest way of writing is just plain text. It provides the freedom of writing in users favorite editor,\\nand enables to focus on the process and the contents, rather than the tooling.\\nThere are different options for text-based light-weight markup that already exist.\\nOne of the most popular ones are\\n\\n* markdown (and its flavors)\\n* reStructuredText\\n\\nfor an overview of their synthax, see [here](http://hyperpolyglot.org/lightweight-markup)\\n\\nBecause we need to cross-reference and tag requirements, the system also needs some kind of directive.\\nBeing able to add commnents is a welcome feature.\\n\\nThe system must support requirements growing into thousands, therefore splitting the system\\ninto multiple files is essential.\\n', 'requirements': {'R5.2': {'req': 'The system **must** enable cross referencing and structuring the requirements'}, 'R5.1': {'req': 'The system **must** use plain text input'}, 'R5.3': {'req': 'The system **should** support comments'}}}, 'R1': {'req': 'tool **must** support requirement workflow', 'decomposition': \"typical workflow consists of setting status to 'draft/reviewed/confirmed' or similar.\\nrequirements have a certain type, for example 'functional' or 'unit'\\n\", 'requirements': {'R1.1': {'req': 'each requirement **must** have a status'}, 'R1.2': {'solution': 'S004', 'req': 'each requirement **must** have a unique identifier'}}}, 'R3': {'solution': 'S003', 'req': 'tool **must** have version control'}, 'R6': {'req': 'tool **must** generate requirement documents', 'requirements': {'R6.2': {'req': 'tool **should** produce pdf'}, 'R6.1': {'req': 'tool **must** produce html output'}}}, 'R4': {'solution': 'S003', 'req': 'tool **must** support multiple users'}}}\n"
     ]
    }
   ],
   "source": [
    "# basic data parsing, load everything from the root\n",
    "import yaml\n",
    "from pprint import pprint\n",
    "import loader\n",
    "\n",
    "\n",
    "fName = '../requirements/simpleSE.yml'\n",
    "data = yaml.load(open(fName,'r'),loader.Loader)\n",
    "\n",
    "\n",
    "print(data)"
   ]
  },
  {
   "cell_type": "code",
   "execution_count": 22,
   "metadata": {
    "collapsed": false
   },
   "outputs": [
    {
     "name": "stdout",
     "output_type": "stream",
     "text": [
      "R1 : tool **must** support requirement workflow\n",
      "R1.1 : each requirement **must** have a status\n",
      "R1.2 : each requirement **must** have a unique identifier\n",
      "R2 : tool **must** have requirement traceability\n",
      "R2.1 : dummy requirement\n",
      "R3 : tool **must** have version control\n",
      "R4 : tool **must** support multiple users\n",
      "R5 : tool **must** be user-friendly and support \"traditional\" way of writing requrements.\n",
      "R5.1 : The system **must** use plain text input\n",
      "R5.2 : The system **must** enable cross referencing and structuring the requirements\n",
      "R5.3 : The system **should** support comments\n",
      "R6 : tool **must** generate requirement documents\n",
      "R6.1 : tool **must** produce html output\n",
      "R6.2 : tool **should** produce pdf\n"
     ]
    }
   ],
   "source": [
    "#  attempt to walk the tree\n",
    "# recursive stuff here, makes my head spin 8-)\n",
    "\n",
    "def myprint(d):\n",
    " \n",
    "    for k in sorted(d.keys()):\n",
    "        v = d[k]\n",
    "        if k=='requirements':\n",
    "            \n",
    "            myprint(v)\n",
    "        else:\n",
    "            try:\n",
    "                print(\"{0} : {1}\".format(k, v['req']))\n",
    "                myprint(v)\n",
    "            except:\n",
    "                pass\n",
    "                #print(k,'(not a requirement)')\n",
    "\n",
    "\n",
    "\n",
    "myprint(data)\n",
    "        \n"
   ]
  },
  {
   "cell_type": "raw",
   "metadata": {},
   "source": [
    "%qtconsole"
   ]
  },
  {
   "cell_type": "code",
   "execution_count": 23,
   "metadata": {
    "collapsed": false
   },
   "outputs": [
    {
     "name": "stdout",
     "output_type": "stream",
     "text": [
      "- {object: requirement, txt: text 0}\n",
      "- {object: requirement, txt: text 1}\n",
      "- {object: requirement, txt: text 2}\n",
      "\n"
     ]
    }
   ],
   "source": [
    "# check how to dump structures\n",
    "\n",
    "req = [ dict(object='requirement',txt='text %i' % i) for i in range(3)]\n",
    "\n",
    "print(yaml.dump(req))"
   ]
  },
  {
   "cell_type": "code",
   "execution_count": 24,
   "metadata": {
    "collapsed": false
   },
   "outputs": [
    {
     "data": {
      "text/plain": [
       "['a', 'b', 'c']"
      ]
     },
     "execution_count": 24,
     "metadata": {},
     "output_type": "execute_result"
    }
   ],
   "source": [
    "d = dict(a=1,b=2,c=3)\n",
    "sorted(d.keys())"
   ]
  }
 ],
 "metadata": {
  "anaconda-cloud": {},
  "kernelspec": {
   "display_name": "Python [conda root]",
   "language": "python",
   "name": "conda-root-py"
  },
  "language_info": {
   "codemirror_mode": {
    "name": "ipython",
    "version": 3
   },
   "file_extension": ".py",
   "mimetype": "text/x-python",
   "name": "python",
   "nbconvert_exporter": "python",
   "pygments_lexer": "ipython3",
   "version": "3.5.2"
  }
 },
 "nbformat": 4,
 "nbformat_minor": 1
}
