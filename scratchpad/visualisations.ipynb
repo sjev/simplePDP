{
 "cells": [
  {
   "cell_type": "markdown",
   "metadata": {},
   "source": [
    "Producing graphs with graphviz.\n",
    "\n",
    "For examples see [here](http://matthiaseisen.com/articles/graphviz/)"
   ]
  },
  {
   "cell_type": "code",
   "execution_count": 13,
   "metadata": {
    "collapsed": false
   },
   "outputs": [
    {
     "name": "stdout",
     "output_type": "stream",
     "text": [
      "OrderedDict([('A01', A01 parent:ROOT children:None,level:0),\n",
      "             ('A02', A02 parent:ROOT children:['R006'],level:0),\n",
      "             ('R006', R006 parent:A02 children:None,level:1),\n",
      "             ('A03',\n",
      "              A03 parent:ROOT children:['R009c', 'R008', 'R009'],level:0),\n",
      "             ('R008',\n",
      "              R008 parent:A03 children:['R008c', 'R008a', 'R008b', 'R008d'],level:1),\n",
      "             ('R008a', R008a parent:R008 children:None,level:2),\n",
      "             ('R008b', R008b parent:R008 children:None,level:2),\n",
      "             ('R008c', R008c parent:R008 children:None,level:2),\n",
      "             ('R008d', R008d parent:R008 children:None,level:2),\n",
      "             ('R009', R009 parent:A03 children:['R009a', 'R009b'],level:1),\n",
      "             ('R009a', R009a parent:R009 children:None,level:2),\n",
      "             ('R009b', R009b parent:R009 children:None,level:2),\n",
      "             ('R009c', R009c parent:A03 children:None,level:1),\n",
      "             ('A04', A04 parent:ROOT children:None,level:0),\n",
      "             ('A05', A05 parent:ROOT children:['R004'],level:0),\n",
      "             ('R004', R004 parent:A05 children:None,level:1),\n",
      "             ('A06', A06 parent:ROOT children:None,level:0),\n",
      "             ('A07', A07 parent:ROOT children:['R003'],level:0),\n",
      "             ('R003', R003 parent:A07 children:None,level:1),\n",
      "             ('A08', A08 parent:ROOT children:['R004a'],level:0),\n",
      "             ('R004a', R004a parent:A08 children:None,level:1),\n",
      "             ('A09', A09 parent:ROOT children:['R007'],level:0),\n",
      "             ('R007', R007 parent:A09 children:None,level:1),\n",
      "             ('A10', A10 parent:ROOT children:['R011'],level:0),\n",
      "             ('R011', R011 parent:A10 children:None,level:1)])\n"
     ]
    }
   ],
   "source": [
    "from simpleRM.core import DataProvider\n",
    "from pprint import pprint\n",
    "\n",
    "ROOT = '../requirements/simpleSE.yml'\n",
    "dp = DataProvider(ROOT)\n",
    "\n",
    "\n",
    "pprint(dp.requirements)"
   ]
  },
  {
   "cell_type": "code",
   "execution_count": 16,
   "metadata": {
    "collapsed": false
   },
   "outputs": [
    {
     "data": {
      "text/plain": [
       "'test.svg'"
      ]
     },
     "execution_count": 16,
     "metadata": {},
     "output_type": "execute_result"
    }
   ],
   "source": [
    "from graphviz import Digraph\n",
    "\n",
    "dot = Digraph(comment='dependencies', format='svg')\n",
    "\n",
    "dot.node('ROOT','root',color='red',style='filled')\n",
    "\n",
    "# requirements\n",
    "for req in dp.requirements.values():\n",
    "    dot.node(req.tag,req.tag)\n",
    "    if req.parent =='ROOT':\n",
    "        dot.edge('ROOT',req.tag)\n",
    "    \n",
    "# dependencies\n",
    "for req in dp.requirements.values():\n",
    "    if req.children is not None:\n",
    "        for child in req.children:\n",
    "            dot.edge(req.tag, child)\n",
    "    \n",
    "dot.render('test')"
   ]
  }
 ],
 "metadata": {
  "anaconda-cloud": {},
  "kernelspec": {
   "display_name": "Python [conda root]",
   "language": "python",
   "name": "conda-root-py"
  },
  "language_info": {
   "codemirror_mode": {
    "name": "ipython",
    "version": 3
   },
   "file_extension": ".py",
   "mimetype": "text/x-python",
   "name": "python",
   "nbconvert_exporter": "python",
   "pygments_lexer": "ipython3",
   "version": "3.5.2"
  }
 },
 "nbformat": 4,
 "nbformat_minor": 1
}
